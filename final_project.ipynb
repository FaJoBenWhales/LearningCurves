{
 "cells": [
  {
   "cell_type": "markdown",
   "metadata": {},
   "source": [
    "# Predicting Learning Curves of Convolutional Neural Network on CIFAR10"
   ]
  },
  {
   "cell_type": "code",
   "execution_count": 1,
   "metadata": {},
   "outputs": [
    {
     "name": "stderr",
     "output_type": "stream",
     "text": [
      "Using TensorFlow backend.\n"
     ]
    }
   ],
   "source": [
    "%load_ext autoreload\n",
    "%autoreload 2\n",
    "%matplotlib inline\n",
    "\n",
    "import tools as t\n",
    "import models as m\n",
    "import hyperband as hp"
   ]
  },
  {
   "cell_type": "code",
   "execution_count": 2,
   "metadata": {},
   "outputs": [
    {
     "name": "stdout",
     "output_type": "stream",
     "text": [
      "scaling configuration data\n",
      "lcs: (265, 40, 1) configs: (265, 5) Y (265, 1)\n"
     ]
    }
   ],
   "source": [
    "configs,lcs,Y = t.load_data(scale_configs = True)\n",
    "print(\"lcs:\", lcs.shape, \"configs:\", configs.shape, \"Y\", Y.shape)"
   ]
  },
  {
   "cell_type": "markdown",
   "metadata": {},
   "source": [
    "###    Testing models (mlp, lstm, multi_lstm)"
   ]
  },
  {
   "cell_type": "code",
   "execution_count": 14,
   "metadata": {},
   "outputs": [],
   "source": [
    "cfg = {'lr': 0.12413831388014755, 'batch_size': 20}\n",
    "model = m.mlp(cfg['lr'])"
   ]
  },
  {
   "cell_type": "code",
   "execution_count": 9,
   "metadata": {},
   "outputs": [
    {
     "name": "stdout",
     "output_type": "stream",
     "text": [
      "Train on 200 samples, validate on 65 samples\n",
      "Epoch 1/100\n",
      "200/200 [==============================] - 0s 151us/step - loss: 0.0042 - val_loss: 0.0067\n",
      "Epoch 2/100\n",
      "200/200 [==============================] - 0s 146us/step - loss: 0.0042 - val_loss: 0.0066\n",
      "Epoch 3/100\n",
      "200/200 [==============================] - 0s 251us/step - loss: 0.0041 - val_loss: 0.0068\n",
      "Epoch 4/100\n",
      "200/200 [==============================] - 0s 234us/step - loss: 0.0041 - val_loss: 0.0064\n",
      "Epoch 5/100\n",
      "200/200 [==============================] - 0s 231us/step - loss: 0.0040 - val_loss: 0.0062\n",
      "Epoch 6/100\n",
      "200/200 [==============================] - 0s 364us/step - loss: 0.0041 - val_loss: 0.0064\n",
      "Epoch 7/100\n",
      "200/200 [==============================] - 0s 245us/step - loss: 0.0039 - val_loss: 0.0065\n",
      "Epoch 8/100\n",
      "200/200 [==============================] - 0s 268us/step - loss: 0.0040 - val_loss: 0.0067\n",
      "Epoch 9/100\n",
      "200/200 [==============================] - 0s 240us/step - loss: 0.0039 - val_loss: 0.0058\n",
      "Epoch 10/100\n",
      "200/200 [==============================] - 0s 246us/step - loss: 0.0036 - val_loss: 0.0071\n",
      "Epoch 11/100\n",
      "200/200 [==============================] - 0s 273us/step - loss: 0.0040 - val_loss: 0.0063\n",
      "Epoch 12/100\n",
      "200/200 [==============================] - 0s 261us/step - loss: 0.0038 - val_loss: 0.0066\n",
      "Epoch 13/100\n",
      "200/200 [==============================] - 0s 229us/step - loss: 0.0039 - val_loss: 0.0059\n",
      "Epoch 14/100\n",
      "200/200 [==============================] - 0s 317us/step - loss: 0.0040 - val_loss: 0.0067\n",
      "Epoch 15/100\n",
      "200/200 [==============================] - 0s 272us/step - loss: 0.0037 - val_loss: 0.0066\n",
      "Epoch 16/100\n",
      "200/200 [==============================] - 0s 247us/step - loss: 0.0037 - val_loss: 0.0070\n",
      "Epoch 17/100\n",
      "200/200 [==============================] - 0s 303us/step - loss: 0.0038 - val_loss: 0.0069\n",
      "Epoch 18/100\n",
      "200/200 [==============================] - 0s 257us/step - loss: 0.0039 - val_loss: 0.0060\n",
      "Epoch 19/100\n",
      "200/200 [==============================] - 0s 215us/step - loss: 0.0036 - val_loss: 0.0068\n",
      "Epoch 20/100\n",
      "200/200 [==============================] - 0s 307us/step - loss: 0.0038 - val_loss: 0.0063\n",
      "Epoch 21/100\n",
      "200/200 [==============================] - 0s 250us/step - loss: 0.0037 - val_loss: 0.0059\n",
      "Epoch 22/100\n",
      "200/200 [==============================] - 0s 312us/step - loss: 0.0039 - val_loss: 0.0070\n",
      "Epoch 23/100\n",
      "200/200 [==============================] - 0s 264us/step - loss: 0.0034 - val_loss: 0.0081\n",
      "Epoch 24/100\n",
      "200/200 [==============================] - 0s 245us/step - loss: 0.0039 - val_loss: 0.0070\n",
      "Epoch 25/100\n",
      "200/200 [==============================] - 0s 332us/step - loss: 0.0036 - val_loss: 0.0073\n",
      "Epoch 26/100\n",
      "200/200 [==============================] - 0s 225us/step - loss: 0.0035 - val_loss: 0.0065\n",
      "Epoch 27/100\n",
      "200/200 [==============================] - 0s 296us/step - loss: 0.0036 - val_loss: 0.0075\n",
      "Epoch 28/100\n",
      "200/200 [==============================] - 0s 384us/step - loss: 0.0035 - val_loss: 0.0061\n",
      "Epoch 29/100\n",
      "200/200 [==============================] - 0s 273us/step - loss: 0.0034 - val_loss: 0.0058\n",
      "Epoch 30/100\n",
      "200/200 [==============================] - 0s 257us/step - loss: 0.0036 - val_loss: 0.0063\n",
      "Epoch 31/100\n",
      "200/200 [==============================] - 0s 354us/step - loss: 0.0034 - val_loss: 0.0067\n",
      "Epoch 32/100\n",
      "200/200 [==============================] - 0s 278us/step - loss: 0.0037 - val_loss: 0.0068\n",
      "Epoch 33/100\n",
      "200/200 [==============================] - 0s 297us/step - loss: 0.0034 - val_loss: 0.0063\n",
      "Epoch 34/100\n",
      "200/200 [==============================] - 0s 279us/step - loss: 0.0035 - val_loss: 0.0060\n",
      "Epoch 35/100\n",
      "200/200 [==============================] - 0s 271us/step - loss: 0.0035 - val_loss: 0.0064\n",
      "Epoch 36/100\n",
      "200/200 [==============================] - 0s 229us/step - loss: 0.0033 - val_loss: 0.0067\n",
      "Epoch 37/100\n",
      "200/200 [==============================] - 0s 322us/step - loss: 0.0035 - val_loss: 0.0064\n",
      "Epoch 38/100\n",
      "200/200 [==============================] - 0s 243us/step - loss: 0.0032 - val_loss: 0.0066\n",
      "Epoch 39/100\n",
      "200/200 [==============================] - 0s 202us/step - loss: 0.0034 - val_loss: 0.0059\n",
      "Epoch 40/100\n",
      "200/200 [==============================] - 0s 343us/step - loss: 0.0032 - val_loss: 0.0061\n",
      "Epoch 41/100\n",
      "200/200 [==============================] - 0s 213us/step - loss: 0.0032 - val_loss: 0.0067\n",
      "Epoch 42/100\n",
      "200/200 [==============================] - 0s 248us/step - loss: 0.0033 - val_loss: 0.0070\n",
      "Epoch 43/100\n",
      "200/200 [==============================] - 0s 307us/step - loss: 0.0032 - val_loss: 0.0075\n",
      "Epoch 44/100\n",
      "200/200 [==============================] - 0s 206us/step - loss: 0.0031 - val_loss: 0.0064\n",
      "Epoch 45/100\n",
      "200/200 [==============================] - 0s 228us/step - loss: 0.0033 - val_loss: 0.0069\n",
      "Epoch 46/100\n",
      "200/200 [==============================] - 0s 310us/step - loss: 0.0031 - val_loss: 0.0060\n",
      "Epoch 47/100\n",
      "200/200 [==============================] - 0s 242us/step - loss: 0.0030 - val_loss: 0.0060\n",
      "Epoch 48/100\n",
      "200/200 [==============================] - 0s 230us/step - loss: 0.0031 - val_loss: 0.0058\n",
      "Epoch 49/100\n",
      "200/200 [==============================] - 0s 344us/step - loss: 0.0031 - val_loss: 0.0064\n",
      "Epoch 50/100\n",
      "200/200 [==============================] - 0s 250us/step - loss: 0.0031 - val_loss: 0.0076\n",
      "Epoch 51/100\n",
      "200/200 [==============================] - 0s 275us/step - loss: 0.0030 - val_loss: 0.0055\n",
      "Epoch 52/100\n",
      "200/200 [==============================] - 0s 255us/step - loss: 0.0031 - val_loss: 0.0063\n",
      "Epoch 53/100\n",
      "200/200 [==============================] - 0s 249us/step - loss: 0.0031 - val_loss: 0.0059\n",
      "Epoch 54/100\n",
      "200/200 [==============================] - 0s 277us/step - loss: 0.0028 - val_loss: 0.0053\n",
      "Epoch 55/100\n",
      "200/200 [==============================] - 0s 290us/step - loss: 0.0029 - val_loss: 0.0063\n",
      "Epoch 56/100\n",
      "200/200 [==============================] - 0s 240us/step - loss: 0.0031 - val_loss: 0.0067\n",
      "Epoch 57/100\n",
      "200/200 [==============================] - 0s 303us/step - loss: 0.0029 - val_loss: 0.0059\n",
      "Epoch 58/100\n",
      "200/200 [==============================] - 0s 247us/step - loss: 0.0029 - val_loss: 0.0055\n",
      "Epoch 59/100\n",
      "200/200 [==============================] - 0s 238us/step - loss: 0.0029 - val_loss: 0.0055\n",
      "Epoch 60/100\n",
      "200/200 [==============================] - 0s 295us/step - loss: 0.0028 - val_loss: 0.0056\n",
      "Epoch 61/100\n",
      "200/200 [==============================] - 0s 225us/step - loss: 0.0027 - val_loss: 0.0059\n",
      "Epoch 62/100\n",
      "200/200 [==============================] - 0s 252us/step - loss: 0.0028 - val_loss: 0.0051\n",
      "Epoch 63/100\n",
      "200/200 [==============================] - 0s 368us/step - loss: 0.0029 - val_loss: 0.0058\n",
      "Epoch 64/100\n",
      "200/200 [==============================] - 0s 237us/step - loss: 0.0029 - val_loss: 0.0059\n",
      "Epoch 65/100\n",
      "200/200 [==============================] - 0s 240us/step - loss: 0.0028 - val_loss: 0.0063\n",
      "Epoch 66/100\n",
      "200/200 [==============================] - 0s 310us/step - loss: 0.0027 - val_loss: 0.0060\n",
      "Epoch 67/100\n",
      "200/200 [==============================] - 0s 274us/step - loss: 0.0026 - val_loss: 0.0055\n",
      "Epoch 68/100\n",
      "200/200 [==============================] - 0s 251us/step - loss: 0.0027 - val_loss: 0.0061\n",
      "Epoch 69/100\n",
      "200/200 [==============================] - 0s 248us/step - loss: 0.0027 - val_loss: 0.0062\n",
      "Epoch 70/100\n",
      "200/200 [==============================] - 0s 251us/step - loss: 0.0029 - val_loss: 0.0060\n",
      "Epoch 71/100\n",
      "200/200 [==============================] - 0s 310us/step - loss: 0.0026 - val_loss: 0.0055\n",
      "Epoch 72/100\n",
      "200/200 [==============================] - 0s 240us/step - loss: 0.0026 - val_loss: 0.0054\n",
      "Epoch 73/100\n",
      "200/200 [==============================] - 0s 219us/step - loss: 0.0027 - val_loss: 0.0055\n",
      "Epoch 74/100\n",
      "200/200 [==============================] - 0s 260us/step - loss: 0.0027 - val_loss: 0.0060\n",
      "Epoch 75/100\n",
      "200/200 [==============================] - 0s 276us/step - loss: 0.0026 - val_loss: 0.0054\n",
      "Epoch 76/100\n",
      "200/200 [==============================] - 0s 392us/step - loss: 0.0026 - val_loss: 0.0060\n",
      "Epoch 77/100\n",
      "200/200 [==============================] - ETA: 0s - loss: 0.002 - 0s 213us/step - loss: 0.0026 - val_loss: 0.0066\n",
      "Epoch 78/100\n",
      "200/200 [==============================] - 0s 297us/step - loss: 0.0024 - val_loss: 0.0061\n",
      "Epoch 79/100\n"
     ]
    },
    {
     "name": "stdout",
     "output_type": "stream",
     "text": [
      "200/200 [==============================] - 0s 260us/step - loss: 0.0026 - val_loss: 0.0054\n",
      "Epoch 80/100\n",
      "200/200 [==============================] - 0s 255us/step - loss: 0.0027 - val_loss: 0.0058\n",
      "Epoch 81/100\n",
      "200/200 [==============================] - 0s 349us/step - loss: 0.0024 - val_loss: 0.0056\n",
      "Epoch 82/100\n",
      "200/200 [==============================] - 0s 246us/step - loss: 0.0026 - val_loss: 0.0054\n",
      "Epoch 83/100\n",
      "200/200 [==============================] - 0s 282us/step - loss: 0.0026 - val_loss: 0.0050\n",
      "Epoch 84/100\n",
      "200/200 [==============================] - 0s 248us/step - loss: 0.0025 - val_loss: 0.0061\n",
      "Epoch 85/100\n",
      "200/200 [==============================] - 0s 253us/step - loss: 0.0024 - val_loss: 0.0063\n",
      "Epoch 86/100\n",
      "200/200 [==============================] - 0s 297us/step - loss: 0.0026 - val_loss: 0.0062\n",
      "Epoch 87/100\n",
      "200/200 [==============================] - 0s 215us/step - loss: 0.0024 - val_loss: 0.0066\n",
      "Epoch 88/100\n",
      "200/200 [==============================] - 0s 277us/step - loss: 0.0025 - val_loss: 0.0067\n",
      "Epoch 89/100\n",
      "200/200 [==============================] - 0s 238us/step - loss: 0.0025 - val_loss: 0.0057\n",
      "Epoch 90/100\n",
      "200/200 [==============================] - 0s 255us/step - loss: 0.0024 - val_loss: 0.0062\n",
      "Epoch 91/100\n",
      "200/200 [==============================] - 0s 292us/step - loss: 0.0023 - val_loss: 0.0061\n",
      "Epoch 92/100\n",
      "200/200 [==============================] - 0s 278us/step - loss: 0.0025 - val_loss: 0.0060\n",
      "Epoch 93/100\n",
      "200/200 [==============================] - 0s 278us/step - loss: 0.0025 - val_loss: 0.0061\n",
      "Epoch 94/100\n",
      "200/200 [==============================] - 0s 309us/step - loss: 0.0025 - val_loss: 0.0074\n",
      "Epoch 95/100\n",
      "200/200 [==============================] - 0s 256us/step - loss: 0.0025 - val_loss: 0.0055\n",
      "Epoch 96/100\n",
      "200/200 [==============================] - 0s 306us/step - loss: 0.0024 - val_loss: 0.0050\n",
      "Epoch 97/100\n",
      "200/200 [==============================] - 0s 222us/step - loss: 0.0025 - val_loss: 0.0060\n",
      "Epoch 98/100\n",
      "200/200 [==============================] - 0s 347us/step - loss: 0.0024 - val_loss: 0.0054\n",
      "Epoch 99/100\n",
      "200/200 [==============================] - 0s 234us/step - loss: 0.0022 - val_loss: 0.0052\n",
      "Epoch 100/100\n",
      "200/200 [==============================] - 0s 311us/step - loss: 0.0022 - val_loss: 0.0062\n",
      "65/65 [==============================] - 0s 193us/step\n",
      "mse:  0.00615965750498\n"
     ]
    }
   ],
   "source": [
    "m.train_mlp(model, configs, Y, cfg, split=200, epochs=100)\n",
    "mse = m.eval_mlp(model, configs, Y, split=200, batch_size=20)"
   ]
  },
  {
   "cell_type": "code",
   "execution_count": 15,
   "metadata": {},
   "outputs": [
    {
     "name": "stdout",
     "output_type": "stream",
     "text": [
      "build lstm with input_dim: 1\n"
     ]
    }
   ],
   "source": [
    "model = m.lstm()"
   ]
  },
  {
   "cell_type": "code",
   "execution_count": 19,
   "metadata": {},
   "outputs": [
    {
     "name": "stdout",
     "output_type": "stream",
     "text": [
      "lcs: (265, 40, 1) configs: (265, 5) Y (265, 1)\n",
      "train lstm without consideration of configs\n",
      "Train on 200 samples, validate on 65 samples\n",
      "Epoch 1/5\n",
      "200/200 [==============================] - 1s 3ms/step - loss: 0.0104 - mean_squared_error: 0.0104 - val_loss: 0.0085 - val_mean_squared_error: 0.0085\n",
      "Epoch 2/5\n",
      "200/200 [==============================] - 1s 3ms/step - loss: 0.0103 - mean_squared_error: 0.0103 - val_loss: 0.0089 - val_mean_squared_error: 0.0089\n",
      "Epoch 3/5\n",
      "200/200 [==============================] - 1s 3ms/step - loss: 0.0108 - mean_squared_error: 0.0108 - val_loss: 0.0116 - val_mean_squared_error: 0.0116\n",
      "Epoch 4/5\n",
      "200/200 [==============================] - 1s 3ms/step - loss: 0.0106 - mean_squared_error: 0.0106 - val_loss: 0.0080 - val_mean_squared_error: 0.0080\n",
      "Epoch 5/5\n",
      "200/200 [==============================] - 1s 3ms/step - loss: 0.0104 - mean_squared_error: 0.0104 - val_loss: 0.0084 - val_mean_squared_error: 0.0084\n",
      "lcs: (265, 40, 1) configs: (265, 5) Y (265, 1)\n"
     ]
    }
   ],
   "source": [
    "print(\"lcs:\", lcs.shape, \"configs:\", configs.shape, \"Y\", Y.shape)\n",
    "m.train_lstm_split(model, lcs, Y, steps=(5,5), split=200, batch_size=20, epochs=5)\n",
    "print(\"lcs:\", lcs.shape, \"configs:\", configs.shape, \"Y\", Y.shape)\n",
    "# def train_lstm(model, X, Y, steps, idx, batch_size, epochs, callbacks = None):"
   ]
  },
  {
   "cell_type": "code",
   "execution_count": 21,
   "metadata": {},
   "outputs": [
    {
     "name": "stdout",
     "output_type": "stream",
     "text": [
      "evaluate lstm without consideration of configs\n",
      "65/65 [==============================] - 0s 1ms/step\n",
      "mse:  0.01702217858\n"
     ]
    }
   ],
   "source": [
    "mse = m.eval_lstm_split(model, lcs, Y, steps=20, split=200, batch_size=20)"
   ]
  },
  {
   "cell_type": "code",
   "execution_count": 22,
   "metadata": {},
   "outputs": [
    {
     "name": "stdout",
     "output_type": "stream",
     "text": [
      "lcs: (265, 40, 1) configs: (265, 5) Y (265, 1)\n"
     ]
    }
   ],
   "source": [
    "model = m.multi_lstm(lr=0.01)\n",
    "print(\"lcs:\", lcs.shape, \"configs:\", configs.shape, \"Y\", Y.shape)"
   ]
  },
  {
   "cell_type": "code",
   "execution_count": 23,
   "metadata": {},
   "outputs": [
    {
     "name": "stdout",
     "output_type": "stream",
     "text": [
      "train lstm with consideration of configs\n",
      "Train on 200 samples, validate on 65 samples\n",
      "Epoch 1/10\n",
      "200/200 [==============================] - 2s 12ms/step - loss: 0.2152 - mean_squared_error: 0.2152 - val_loss: 0.0877 - val_mean_squared_error: 0.0877\n",
      "Epoch 2/10\n",
      "200/200 [==============================] - 0s 2ms/step - loss: 0.0612 - mean_squared_error: 0.0612 - val_loss: 0.0494 - val_mean_squared_error: 0.0494\n",
      "Epoch 3/10\n",
      "200/200 [==============================] - 0s 2ms/step - loss: 0.0451 - mean_squared_error: 0.0451 - val_loss: 0.0267 - val_mean_squared_error: 0.0267\n",
      "Epoch 4/10\n",
      "200/200 [==============================] - 1s 3ms/step - loss: 0.0190 - mean_squared_error: 0.0190 - val_loss: 0.0113 - val_mean_squared_error: 0.0113\n",
      "Epoch 5/10\n",
      "200/200 [==============================] - 1s 3ms/step - loss: 0.0124 - mean_squared_error: 0.0124 - val_loss: 0.0122 - val_mean_squared_error: 0.0122\n",
      "Epoch 6/10\n",
      "200/200 [==============================] - 1s 3ms/step - loss: 0.0091 - mean_squared_error: 0.0091 - val_loss: 0.0057 - val_mean_squared_error: 0.0057\n",
      "Epoch 7/10\n",
      "200/200 [==============================] - 1s 3ms/step - loss: 0.0083 - mean_squared_error: 0.0083 - val_loss: 0.0137 - val_mean_squared_error: 0.0137\n",
      "Epoch 8/10\n",
      "200/200 [==============================] - 1s 3ms/step - loss: 0.0114 - mean_squared_error: 0.0114 - val_loss: 0.0052 - val_mean_squared_error: 0.0052\n",
      "Epoch 9/10\n",
      "200/200 [==============================] - 1s 3ms/step - loss: 0.0059 - mean_squared_error: 0.0059 - val_loss: 0.0043 - val_mean_squared_error: 0.0043\n",
      "Epoch 10/10\n",
      "200/200 [==============================] - 1s 3ms/step - loss: 0.0067 - mean_squared_error: 0.0067 - val_loss: 0.0040 - val_mean_squared_error: 0.0040\n"
     ]
    },
    {
     "data": {
      "text/plain": [
       "<keras.callbacks.History at 0x7f2bb7151cc0>"
      ]
     },
     "execution_count": 23,
     "metadata": {},
     "output_type": "execute_result"
    }
   ],
   "source": [
    "m.train_lstm_split(model, [configs, lcs], Y, steps=(5,5), split=200, batch_size=20, epochs=10)"
   ]
  },
  {
   "cell_type": "code",
   "execution_count": 27,
   "metadata": {},
   "outputs": [
    {
     "name": "stdout",
     "output_type": "stream",
     "text": [
      "evaluate lstm with consideration of configs\n",
      "65/65 [==============================] - 0s 842us/step\n",
      "mse:  0.00400639268068\n"
     ]
    }
   ],
   "source": [
    "mse = m.eval_lstm_split(model, [configs, lcs], Y, steps=5, split=200, batch_size=20)\n",
    "# mse = m.eval_multi_lstm(model, configs, lcs, Y, steps=20, split=200, batch_size=5)"
   ]
  },
  {
   "cell_type": "markdown",
   "metadata": {},
   "source": [
    "###    evaluating models with cross validation (ridge, XGB, mlp, lstm, multi_lstm)"
   ]
  },
  {
   "cell_type": "code",
   "execution_count": 151,
   "metadata": {},
   "outputs": [
    {
     "name": "stdout",
     "output_type": "stream",
     "text": [
      "cross validate 0 epochs, train on 5 steps, validate on 5 steps\n",
      "config {'alpha': 1.0}\n",
      "MSE ridge: mean *** 0.02977 *** std: 0.0052\n",
      "Result of all Folds: [-0.037  -0.0267 -0.0256]\n"
     ]
    },
    {
     "name": "stderr",
     "output_type": "stream",
     "text": [
      "[Parallel(n_jobs=1)]: Done   3 out of   3 | elapsed:    0.0s finished\n"
     ]
    }
   ],
   "source": [
    "cfg={'alpha':1.0}\n",
    "results = m.eval_cv('ridge', configs, Y, cfg=cfg, splits = 3)"
   ]
  },
  {
   "cell_type": "code",
   "execution_count": 152,
   "metadata": {},
   "outputs": [
    {
     "name": "stdout",
     "output_type": "stream",
     "text": [
      "cross validate 0 epochs, train on 5 steps, validate on 5 steps\n",
      "config {'gamma': 0.007833441242813044, 'cols_bt': 0.9376450587145334, 'lr': 0.08119864140758115, 'maxdepth': 10, 'subsample': 0.7946631901813815, 'n_estimators': 1000}\n",
      "MSE xgb: mean *** 0.00705 *** std: 0.0017\n",
      "Result of all Folds: [-0.0088 -0.0048 -0.0075]\n"
     ]
    },
    {
     "name": "stderr",
     "output_type": "stream",
     "text": [
      "[Parallel(n_jobs=1)]: Done   3 out of   3 | elapsed:    1.6s finished\n"
     ]
    }
   ],
   "source": [
    "cfg = {'maxdepth': 10, 'lr': 0.08119864140758115, 'gamma': 0.007833441242813044, 'cols_bt': 0.9376450587145334, \n",
    "       'n_estimators': 1000, 'subsample': 0.7946631901813815}\n",
    "results = m.eval_cv('xgb', configs, Y, cfg=cfg, splits = 3)"
   ]
  },
  {
   "cell_type": "code",
   "execution_count": 153,
   "metadata": {},
   "outputs": [
    {
     "name": "stdout",
     "output_type": "stream",
     "text": [
      "cross validate 100 epochs, train on 5 steps, validate on 5 steps\n",
      "config {'batch_size': 22, 'k_exp': 0.005043479631870928, 'lr': 0.2013474827989724}\n",
      "create mlp using Dropout\n",
      "create mlp using Dropout\n",
      "create mlp using Dropout\n",
      "MSE mlp: mean *** 0.01869 *** std: 0.0155\n",
      "Result of all Folds: [-0.0081 -0.0406 -0.0074]\n"
     ]
    },
    {
     "name": "stderr",
     "output_type": "stream",
     "text": [
      "[Parallel(n_jobs=1)]: Done   3 out of   3 | elapsed:   42.1s finished\n"
     ]
    }
   ],
   "source": [
    "# evaluate via cross validation\n",
    "cfg = {'lr': 0.2013474827989724, 'batch_size': 22, 'k_exp': 0.005043479631870928}\n",
    "results = m.eval_cv('mlp', configs, Y, cfg=cfg, epochs=100, splits = 3, earlystop=False, dropout=True, lr_exp_decay=False)"
   ]
  },
  {
   "cell_type": "code",
   "execution_count": 29,
   "metadata": {},
   "outputs": [
    {
     "name": "stdout",
     "output_type": "stream",
     "text": [
      "cross validate 5 epochs, train on 5 steps, validate on 5 steps\n",
      "config {'batch_size': 24}\n",
      "build lstm with input_dim: 1\n",
      "train lstm without consideration of configs\n",
      "Train on 198 samples, validate on 67 samples\n",
      "Epoch 1/5\n",
      "198/198 [==============================] - 3s 15ms/step - loss: 0.0505 - mean_squared_error: 0.0505 - val_loss: 0.0322 - val_mean_squared_error: 0.0322\n",
      "Epoch 2/5\n",
      "198/198 [==============================] - 0s 2ms/step - loss: 0.0211 - mean_squared_error: 0.0211 - val_loss: 0.0328 - val_mean_squared_error: 0.0328\n",
      "Epoch 3/5\n",
      "198/198 [==============================] - 0s 2ms/step - loss: 0.0194 - mean_squared_error: 0.0194 - val_loss: 0.0196 - val_mean_squared_error: 0.0196\n",
      "Epoch 4/5\n",
      "198/198 [==============================] - 0s 3ms/step - loss: 0.0153 - mean_squared_error: 0.0153 - val_loss: 0.0183 - val_mean_squared_error: 0.0183\n",
      "Epoch 5/5\n",
      "198/198 [==============================] - 0s 3ms/step - loss: 0.0122 - mean_squared_error: 0.0122 - val_loss: 0.0140 - val_mean_squared_error: 0.0140\n",
      "train lstm without consideration of configs\n",
      "Train on 199 samples, validate on 66 samples\n",
      "Epoch 1/5\n",
      "199/199 [==============================] - 0s 2ms/step - loss: 0.0800 - mean_squared_error: 0.0800 - val_loss: 0.0226 - val_mean_squared_error: 0.0226\n",
      "Epoch 2/5\n",
      "199/199 [==============================] - 0s 2ms/step - loss: 0.0280 - mean_squared_error: 0.0280 - val_loss: 0.0184 - val_mean_squared_error: 0.0184\n",
      "Epoch 3/5\n",
      "199/199 [==============================] - 0s 2ms/step - loss: 0.0219 - mean_squared_error: 0.0219 - val_loss: 0.0156 - val_mean_squared_error: 0.0156\n",
      "Epoch 4/5\n",
      "199/199 [==============================] - 1s 3ms/step - loss: 0.0160 - mean_squared_error: 0.0160 - val_loss: 0.0134 - val_mean_squared_error: 0.0134\n",
      "Epoch 5/5\n",
      "199/199 [==============================] - 1s 3ms/step - loss: 0.0123 - mean_squared_error: 0.0123 - val_loss: 0.0110 - val_mean_squared_error: 0.0110\n",
      "train lstm without consideration of configs\n",
      "Train on 199 samples, validate on 66 samples\n",
      "Epoch 1/5\n",
      "199/199 [==============================] - 1s 3ms/step - loss: 0.0746 - mean_squared_error: 0.0746 - val_loss: 0.0226 - val_mean_squared_error: 0.0226\n",
      "Epoch 2/5\n",
      "199/199 [==============================] - 1s 3ms/step - loss: 0.0291 - mean_squared_error: 0.0291 - val_loss: 0.0202 - val_mean_squared_error: 0.0202\n",
      "Epoch 3/5\n",
      "199/199 [==============================] - 1s 3ms/step - loss: 0.0219 - mean_squared_error: 0.0219 - val_loss: 0.0165 - val_mean_squared_error: 0.0165\n",
      "Epoch 4/5\n",
      "199/199 [==============================] - 1s 3ms/step - loss: 0.0168 - mean_squared_error: 0.0168 - val_loss: 0.0133 - val_mean_squared_error: 0.0133\n",
      "Epoch 5/5\n",
      "199/199 [==============================] - 1s 3ms/step - loss: 0.0145 - mean_squared_error: 0.0145 - val_loss: 0.0127 - val_mean_squared_error: 0.0127\n",
      "train lstm without consideration of configs\n",
      "Train on 199 samples, validate on 66 samples\n",
      "Epoch 1/5\n",
      "199/199 [==============================] - 1s 3ms/step - loss: 0.0841 - mean_squared_error: 0.0841 - val_loss: 0.0306 - val_mean_squared_error: 0.0306\n",
      "Epoch 2/5\n",
      "199/199 [==============================] - 1s 3ms/step - loss: 0.0293 - mean_squared_error: 0.0293 - val_loss: 0.0129 - val_mean_squared_error: 0.0129\n",
      "Epoch 3/5\n",
      "199/199 [==============================] - 1s 3ms/step - loss: 0.0220 - mean_squared_error: 0.0220 - val_loss: 0.0125 - val_mean_squared_error: 0.0125\n",
      "Epoch 4/5\n",
      "199/199 [==============================] - 1s 3ms/step - loss: 0.0187 - mean_squared_error: 0.0187 - val_loss: 0.0101 - val_mean_squared_error: 0.0101\n",
      "Epoch 5/5\n",
      "199/199 [==============================] - 1s 3ms/step - loss: 0.0134 - mean_squared_error: 0.0134 - val_loss: 0.0085 - val_mean_squared_error: 0.0085\n",
      "MSE lstm: mean *** 0.01155 *** std: 0.0021\n",
      "Result of all Folds: [ 0.014   0.011   0.0127  0.0085]\n"
     ]
    }
   ],
   "source": [
    "cfg = {'batch_size': 24}\n",
    "results = m.eval_cv('lstm', lcs, Y, steps=(5,5), cfg=cfg, epochs=5, splits=4, earlystop=False)"
   ]
  },
  {
   "cell_type": "code",
   "execution_count": 30,
   "metadata": {},
   "outputs": [
    {
     "name": "stdout",
     "output_type": "stream",
     "text": [
      "cross validate 5 epochs, train on 5 steps, validate on 5 steps\n",
      "config {'batch_size': 12}\n",
      "evaluating with early stopping\n",
      "train lstm with consideration of configs\n",
      "Train on 176 samples, validate on 89 samples\n",
      "Epoch 1/5\n",
      "176/176 [==============================] - 3s 16ms/step - loss: 0.1799 - mean_squared_error: 0.1799 - val_loss: 0.0721 - val_mean_squared_error: 0.0721\n",
      "Epoch 2/5\n",
      "176/176 [==============================] - 1s 4ms/step - loss: 0.0569 - mean_squared_error: 0.0569 - val_loss: 0.0228 - val_mean_squared_error: 0.0228\n",
      "Epoch 3/5\n",
      "176/176 [==============================] - 1s 5ms/step - loss: 0.0176 - mean_squared_error: 0.0176 - val_loss: 0.0183 - val_mean_squared_error: 0.0183\n",
      "Epoch 4/5\n",
      "176/176 [==============================] - 1s 4ms/step - loss: 0.0117 - mean_squared_error: 0.0117 - val_loss: 0.0135 - val_mean_squared_error: 0.0135\n",
      "Epoch 5/5\n",
      "176/176 [==============================] - 1s 4ms/step - loss: 0.0075 - mean_squared_error: 0.0075 - val_loss: 0.0060 - val_mean_squared_error: 0.0060\n",
      "train lstm with consideration of configs\n",
      "Train on 177 samples, validate on 88 samples\n",
      "Epoch 1/5\n",
      "177/177 [==============================] - 1s 4ms/step - loss: 0.1205 - mean_squared_error: 0.1205 - val_loss: 0.0689 - val_mean_squared_error: 0.0689\n",
      "Epoch 2/5\n",
      "177/177 [==============================] - 1s 4ms/step - loss: 0.0453 - mean_squared_error: 0.0453 - val_loss: 0.0221 - val_mean_squared_error: 0.0221\n",
      "Epoch 3/5\n",
      "177/177 [==============================] - 1s 4ms/step - loss: 0.0175 - mean_squared_error: 0.0175 - val_loss: 0.0127 - val_mean_squared_error: 0.0127\n",
      "Epoch 4/5\n",
      "177/177 [==============================] - 1s 5ms/step - loss: 0.0187 - mean_squared_error: 0.0187 - val_loss: 0.0334 - val_mean_squared_error: 0.0334\n",
      "Epoch 5/5\n",
      "177/177 [==============================] - 1s 5ms/step - loss: 0.0283 - mean_squared_error: 0.0283 - val_loss: 0.0182 - val_mean_squared_error: 0.0182\n",
      "train lstm with consideration of configs\n",
      "Train on 177 samples, validate on 88 samples\n",
      "Epoch 1/5\n",
      "177/177 [==============================] - 1s 4ms/step - loss: 0.1525 - mean_squared_error: 0.1525 - val_loss: 0.0511 - val_mean_squared_error: 0.0511\n",
      "Epoch 2/5\n",
      "177/177 [==============================] - 1s 4ms/step - loss: 0.0350 - mean_squared_error: 0.0350 - val_loss: 0.0294 - val_mean_squared_error: 0.0294\n",
      "Epoch 3/5\n",
      "177/177 [==============================] - 1s 4ms/step - loss: 0.0199 - mean_squared_error: 0.0199 - val_loss: 0.0207 - val_mean_squared_error: 0.0207\n",
      "Epoch 4/5\n",
      "177/177 [==============================] - 1s 4ms/step - loss: 0.0230 - mean_squared_error: 0.0230 - val_loss: 0.0302 - val_mean_squared_error: 0.0302\n",
      "Epoch 5/5\n",
      "177/177 [==============================] - 1s 4ms/step - loss: 0.0261 - mean_squared_error: 0.0261 - val_loss: 0.0197 - val_mean_squared_error: 0.0197\n",
      "MSE multi_lstm: mean *** 0.01463 *** std: 0.0061\n",
      "Result of all Folds: [ 0.006   0.0182  0.0197]\n"
     ]
    }
   ],
   "source": [
    "cfg = {'batch_size': 12}\n",
    "results = m.eval_cv('multi_lstm', [configs, lcs], Y, steps=(5,5), cfg=cfg, epochs=5, earlystop=True)"
   ]
  },
  {
   "cell_type": "markdown",
   "metadata": {},
   "source": [
    "###    running hyperparameter optimisations"
   ]
  },
  {
   "cell_type": "code",
   "execution_count": 64,
   "metadata": {},
   "outputs": [
    {
     "name": "stdout",
     "output_type": "stream",
     "text": [
      "139794893321984\n",
      "call cross_val_score 1 epochs, with config {'lr': 0.004714876890308628, 'n_estimators': 268, 'gamma': 0.26459522737088415, 'cols_bt': 0.7205813491511858, 'subsample': 0.7500236279889205, 'maxdepth': 4}\n"
     ]
    },
    {
     "name": "stderr",
     "output_type": "stream",
     "text": [
      "/home/jochen/tensorflow/lib/python3.5/site-packages/sklearn/externals/joblib/parallel.py:547: UserWarning: Multiprocessing-backed parallel loops cannot be nested below threads, setting n_jobs=1\n",
      "  **self._backend_args)\n",
      "[Parallel(n_jobs=1)]: Done   3 out of   3 | elapsed:    0.4s finished\n"
     ]
    },
    {
     "name": "stdout",
     "output_type": "stream",
     "text": [
      "MSE xgb: mean *** 0.01951 *** std: 0.0033\n",
      "Result of all Folds: [-0.024  -0.0165 -0.018 ]\n",
      "call cross_val_score 1 epochs, with config {'lr': 0.16217257533644988, 'n_estimators': 217, 'gamma': 0.17353041959112092, 'cols_bt': 0.5018073452510072, 'subsample': 0.04435576765316558, 'maxdepth': 3}\n",
      "MSE xgb: mean *** 0.01878 *** std: 0.0048\n",
      "Result of all Folds: [-0.0255 -0.0157 -0.0151]\n",
      "call cross_val_score 1 epochs, with config {'lr': 0.006511979192566196, 'n_estimators': 53, 'gamma': 0.5897426049071096, 'cols_bt': 0.8042770696688266, 'subsample': 0.6385951106142573, 'maxdepth': 6}\n",
      "MSE xgb: mean *** 0.04247 *** std: 0.0027\n",
      "Result of all Folds: [-0.0463 -0.0408 -0.0403]\n",
      "call cross_val_score 1 epochs, with config {'lr': 0.0037685582632389246, 'n_estimators': 166, 'gamma': 0.24151871555037485, 'cols_bt': 0.2175434363842382, 'subsample': 0.42201710086334426, 'maxdepth': 7}\n"
     ]
    },
    {
     "name": "stderr",
     "output_type": "stream",
     "text": [
      "/home/jochen/tensorflow/lib/python3.5/site-packages/sklearn/externals/joblib/parallel.py:547: UserWarning: Multiprocessing-backed parallel loops cannot be nested below threads, setting n_jobs=1\n",
      "  **self._backend_args)\n",
      "[Parallel(n_jobs=1)]: Done   3 out of   3 | elapsed:    0.1s finished\n",
      "/home/jochen/tensorflow/lib/python3.5/site-packages/sklearn/externals/joblib/parallel.py:547: UserWarning: Multiprocessing-backed parallel loops cannot be nested below threads, setting n_jobs=1\n",
      "  **self._backend_args)\n",
      "[Parallel(n_jobs=1)]: Done   3 out of   3 | elapsed:    0.0s finished\n",
      "/home/jochen/tensorflow/lib/python3.5/site-packages/sklearn/externals/joblib/parallel.py:547: UserWarning: Multiprocessing-backed parallel loops cannot be nested below threads, setting n_jobs=1\n",
      "  **self._backend_args)\n",
      "[Parallel(n_jobs=1)]: Done   3 out of   3 | elapsed:    0.2s finished\n",
      "/home/jochen/tensorflow/lib/python3.5/site-packages/sklearn/externals/joblib/parallel.py:547: UserWarning: Multiprocessing-backed parallel loops cannot be nested below threads, setting n_jobs=1\n",
      "  **self._backend_args)\n"
     ]
    },
    {
     "name": "stdout",
     "output_type": "stream",
     "text": [
      "MSE xgb: mean *** 0.03919 *** std: 0.0041\n",
      "Result of all Folds: [-0.045  -0.0366 -0.036 ]\n",
      "call cross_val_score 2 epochs, with config {'lr': 0.18041444469503112, 'n_estimators': 142, 'gamma': 0.05177245989145496, 'cols_bt': 0.6386477142624469, 'subsample': 0.42853431580055124, 'maxdepth': 8}\n"
     ]
    },
    {
     "name": "stderr",
     "output_type": "stream",
     "text": [
      "[Parallel(n_jobs=1)]: Done   3 out of   3 | elapsed:    0.3s finished\n",
      "/home/jochen/tensorflow/lib/python3.5/site-packages/sklearn/externals/joblib/parallel.py:547: UserWarning: Multiprocessing-backed parallel loops cannot be nested below threads, setting n_jobs=1\n",
      "  **self._backend_args)\n"
     ]
    },
    {
     "name": "stdout",
     "output_type": "stream",
     "text": [
      "MSE xgb: mean *** 0.01129 *** std: 0.0002\n",
      "Result of all Folds: [-0.0113 -0.0111 -0.0115]\n",
      "call cross_val_score 2 epochs, with config {'lr': 0.004714876890308628, 'n_estimators': 268, 'gamma': 0.26459522737088415, 'cols_bt': 0.7205813491511858, 'subsample': 0.7500236279889205, 'maxdepth': 4}\n"
     ]
    },
    {
     "name": "stderr",
     "output_type": "stream",
     "text": [
      "[Parallel(n_jobs=1)]: Done   3 out of   3 | elapsed:    0.5s finished\n",
      "/home/jochen/tensorflow/lib/python3.5/site-packages/sklearn/externals/joblib/parallel.py:547: UserWarning: Multiprocessing-backed parallel loops cannot be nested below threads, setting n_jobs=1\n",
      "  **self._backend_args)\n",
      "[Parallel(n_jobs=1)]: Done   3 out of   3 | elapsed:    0.2s finished\n"
     ]
    },
    {
     "name": "stdout",
     "output_type": "stream",
     "text": [
      "MSE xgb: mean *** 0.01951 *** std: 0.0033\n",
      "Result of all Folds: [-0.024  -0.0165 -0.018 ]\n",
      "call cross_val_score 2 epochs, with config {'lr': 0.16217257533644988, 'n_estimators': 217, 'gamma': 0.17353041959112092, 'cols_bt': 0.5018073452510072, 'subsample': 0.04435576765316558, 'maxdepth': 3}\n",
      "MSE xgb: mean *** 0.01878 *** std: 0.0048\n",
      "Result of all Folds: [-0.0255 -0.0157 -0.0151]\n",
      "call cross_val_score 2 epochs, with config {'lr': 0.0020517177177551056, 'n_estimators': 63, 'gamma': 0.547330352964734, 'cols_bt': 0.19357107178162672, 'subsample': 0.5991884186547828, 'maxdepth': 10}\n",
      "MSE xgb: mean *** 0.05713 *** std: 0.0032\n",
      "Result of all Folds: [-0.0615 -0.0556 -0.0543]\n",
      "call cross_val_score 4 epochs, with config {'lr': 0.16217257533644988, 'n_estimators': 217, 'gamma': 0.17353041959112092, 'cols_bt': 0.5018073452510072, 'subsample': 0.04435576765316558, 'maxdepth': 3}\n"
     ]
    },
    {
     "name": "stderr",
     "output_type": "stream",
     "text": [
      "/home/jochen/tensorflow/lib/python3.5/site-packages/sklearn/externals/joblib/parallel.py:547: UserWarning: Multiprocessing-backed parallel loops cannot be nested below threads, setting n_jobs=1\n",
      "  **self._backend_args)\n",
      "[Parallel(n_jobs=1)]: Done   3 out of   3 | elapsed:    0.1s finished\n",
      "/home/jochen/tensorflow/lib/python3.5/site-packages/sklearn/externals/joblib/parallel.py:547: UserWarning: Multiprocessing-backed parallel loops cannot be nested below threads, setting n_jobs=1\n",
      "  **self._backend_args)\n",
      "[Parallel(n_jobs=1)]: Done   3 out of   3 | elapsed:    0.2s finished\n",
      "/home/jochen/tensorflow/lib/python3.5/site-packages/sklearn/externals/joblib/parallel.py:547: UserWarning: Multiprocessing-backed parallel loops cannot be nested below threads, setting n_jobs=1\n",
      "  **self._backend_args)\n"
     ]
    },
    {
     "name": "stdout",
     "output_type": "stream",
     "text": [
      "MSE xgb: mean *** 0.01878 *** std: 0.0048\n",
      "Result of all Folds: [-0.0255 -0.0157 -0.0151]\n",
      "call cross_val_score 4 epochs, with config {'lr': 0.18041444469503112, 'n_estimators': 142, 'gamma': 0.05177245989145496, 'cols_bt': 0.6386477142624469, 'subsample': 0.42853431580055124, 'maxdepth': 8}\n"
     ]
    },
    {
     "name": "stderr",
     "output_type": "stream",
     "text": [
      "[Parallel(n_jobs=1)]: Done   3 out of   3 | elapsed:    0.6s finished\n"
     ]
    },
    {
     "name": "stdout",
     "output_type": "stream",
     "text": [
      "MSE xgb: mean *** 0.01129 *** std: 0.0002\n",
      "Result of all Folds: [-0.0113 -0.0111 -0.0115]\n",
      "return best_cfg:  {'lr': 0.18041444469503112, 'n_estimators': 142, 'gamma': 0.05177245989145496, 'cols_bt': 0.6386477142624469, 'subsample': 0.42853431580055124, 'maxdepth': 8}\n"
     ]
    }
   ],
   "source": [
    "best_cfg = hp.optimize(configs,Y,model_type='xgb', min_budget = 1, max_budget=4, run_name='')"
   ]
  },
  {
   "cell_type": "code",
   "execution_count": 66,
   "metadata": {},
   "outputs": [
    {
     "name": "stdout",
     "output_type": "stream",
     "text": [
      "139794893321984\n",
      "evaluating with early stopping\n",
      "call cross_val_score 1000 epochs, with config {'batch_size': 42, 'lr': 0.016053361155360754}\n"
     ]
    },
    {
     "name": "stderr",
     "output_type": "stream",
     "text": [
      "/home/jochen/tensorflow/lib/python3.5/site-packages/sklearn/externals/joblib/parallel.py:547: UserWarning: Multiprocessing-backed parallel loops cannot be nested below threads, setting n_jobs=1\n",
      "  **self._backend_args)\n",
      "[Parallel(n_jobs=1)]: Done   3 out of   3 | elapsed:   13.9s finished\n"
     ]
    },
    {
     "name": "stdout",
     "output_type": "stream",
     "text": [
      "MSE mlp: mean *** 0.00788 *** std: 0.0009\n",
      "Result of all Folds: [-0.0091 -0.0071 -0.0075]\n",
      "evaluating with early stopping\n",
      "call cross_val_score 1000 epochs, with config {'batch_size': 40, 'lr': 0.0012751322028299946}\n"
     ]
    },
    {
     "name": "stderr",
     "output_type": "stream",
     "text": [
      "[Parallel(n_jobs=1)]: Done   3 out of   3 | elapsed:   14.7s finished\n"
     ]
    },
    {
     "name": "stdout",
     "output_type": "stream",
     "text": [
      "MSE mlp: mean *** 0.03327 *** std: 0.0098\n",
      "Result of all Folds: [-0.0469 -0.0285 -0.0244]\n",
      "evaluating with early stopping\n",
      "call cross_val_score 1000 epochs, with config {'batch_size': 17, 'lr': 0.0024363705871363653}\n"
     ]
    },
    {
     "name": "stderr",
     "output_type": "stream",
     "text": [
      "[Parallel(n_jobs=1)]: Done   3 out of   3 | elapsed:   28.6s finished\n"
     ]
    },
    {
     "name": "stdout",
     "output_type": "stream",
     "text": [
      "MSE mlp: mean *** 0.01800 *** std: 0.0048\n",
      "Result of all Folds: [-0.0247 -0.0158 -0.0136]\n",
      "evaluating with early stopping\n",
      "call cross_val_score 1000 epochs, with config {'batch_size': 44, 'lr': 0.00323203530624004}\n"
     ]
    },
    {
     "name": "stderr",
     "output_type": "stream",
     "text": [
      "[Parallel(n_jobs=1)]: Done   3 out of   3 | elapsed:   13.0s finished\n"
     ]
    },
    {
     "name": "stdout",
     "output_type": "stream",
     "text": [
      "MSE mlp: mean *** 0.02694 *** std: 0.0091\n",
      "Result of all Folds: [-0.0398 -0.0201 -0.021 ]\n",
      "evaluating with early stopping\n",
      "call cross_val_score 2000 epochs, with config {'batch_size': 27, 'lr': 0.0594683318735445}\n",
      "Epoch 01459: early stopping\n",
      "Epoch 01185: early stopping\n",
      "Epoch 01131: early stopping\n",
      "MSE mlp: mean *** 0.00579 *** std: 0.0008\n",
      "Result of all Folds: [-0.0069 -0.0052 -0.0053]\n",
      "evaluating with early stopping\n",
      "call cross_val_score 2000 epochs, with config {'batch_size': 42, 'lr': 0.016053361155360754}\n"
     ]
    },
    {
     "name": "stderr",
     "output_type": "stream",
     "text": [
      "[Parallel(n_jobs=1)]: Done   3 out of   3 | elapsed:   26.8s finished\n",
      "[Parallel(n_jobs=1)]: Done   3 out of   3 | elapsed:   27.9s finished\n"
     ]
    },
    {
     "name": "stdout",
     "output_type": "stream",
     "text": [
      "MSE mlp: mean *** 0.00655 *** std: 0.0006\n",
      "Result of all Folds: [-0.0074 -0.0059 -0.0064]\n",
      "evaluating with early stopping\n",
      "call cross_val_score 2000 epochs, with config {'batch_size': 17, 'lr': 0.0024363705871363653}\n"
     ]
    },
    {
     "name": "stderr",
     "output_type": "stream",
     "text": [
      "[Parallel(n_jobs=1)]: Done   3 out of   3 | elapsed:  1.0min finished\n"
     ]
    },
    {
     "name": "stdout",
     "output_type": "stream",
     "text": [
      "MSE mlp: mean *** 0.01052 *** std: 0.0028\n",
      "Result of all Folds: [-0.0145 -0.0082 -0.0088]\n",
      "evaluating with early stopping\n",
      "call cross_val_score 2000 epochs, with config {'batch_size': 23, 'lr': 0.00011833479264203744}\n",
      "Epoch 01692: early stopping\n",
      "Epoch 01690: early stopping\n",
      "Epoch 01760: early stopping\n",
      "MSE mlp: mean *** 0.03513 *** std: 0.0099\n",
      "Result of all Folds: [-0.049  -0.0303 -0.0262]\n",
      "evaluating with early stopping\n",
      "call cross_val_score 4000 epochs, with config {'batch_size': 42, 'lr': 0.016053361155360754}\n"
     ]
    },
    {
     "name": "stderr",
     "output_type": "stream",
     "text": [
      "[Parallel(n_jobs=1)]: Done   3 out of   3 | elapsed:   38.5s finished\n"
     ]
    },
    {
     "name": "stdout",
     "output_type": "stream",
     "text": [
      "Epoch 02270: early stopping\n",
      "Epoch 02702: early stopping\n",
      "Epoch 02280: early stopping\n",
      "MSE mlp: mean *** 0.00676 *** std: 0.0006\n",
      "Result of all Folds: [-0.0076 -0.0065 -0.0062]\n",
      "evaluating with early stopping\n",
      "call cross_val_score 4000 epochs, with config {'batch_size': 27, 'lr': 0.0594683318735445}\n"
     ]
    },
    {
     "name": "stderr",
     "output_type": "stream",
     "text": [
      "[Parallel(n_jobs=1)]: Done   3 out of   3 | elapsed:   40.8s finished\n"
     ]
    },
    {
     "name": "stdout",
     "output_type": "stream",
     "text": [
      "Epoch 01461: early stopping\n",
      "Epoch 01012: early stopping\n",
      "Epoch 01015: early stopping\n",
      "MSE mlp: mean *** 0.00588 *** std: 0.0005\n",
      "Result of all Folds: [-0.0066 -0.0057 -0.0053]\n"
     ]
    },
    {
     "name": "stderr",
     "output_type": "stream",
     "text": [
      "[Parallel(n_jobs=1)]: Done   3 out of   3 | elapsed:  1.5min finished\n"
     ]
    },
    {
     "name": "stdout",
     "output_type": "stream",
     "text": [
      "return best_cfg:  {'batch_size': 27, 'lr': 0.0594683318735445}\n"
     ]
    }
   ],
   "source": [
    "best_cfg = hp.optimize(configs,Y,model_type='mlp', min_budget = 1000, max_budget=4000, \n",
    "                       run_name='', earlystop=True)"
   ]
  },
  {
   "cell_type": "code",
   "execution_count": 4,
   "metadata": {},
   "outputs": [
    {
     "name": "stdout",
     "output_type": "stream",
     "text": [
      "139888802830080\n",
      "evaluating with early stopping\n",
      "call cross_val_score 15 epochs, with config {'batch_size': 3}\n",
      "build lstm with input_dim: 1\n"
     ]
    },
    {
     "name": "stderr",
     "output_type": "stream",
     "text": [
      "/home/jochen/tensorflow/lib/python3.5/site-packages/sklearn/externals/joblib/parallel.py:547: UserWarning: Multiprocessing-backed parallel loops cannot be nested below threads, setting n_jobs=1\n",
      "  **self._backend_args)\n"
     ]
    },
    {
     "name": "stdout",
     "output_type": "stream",
     "text": [
      "Epoch 1/15\n",
      "evaluating with early stopping\n",
      "call cross_val_score 15 epochs, with config {'batch_size': 1}\n",
      "build lstm with input_dim: 1\n",
      "Epoch 1/15\n",
      " 81/176 [============>.................] - ETA: 9s - loss: 0.0190 - mean_squared_error: 0.0190"
     ]
    },
    {
     "ename": "KeyboardInterrupt",
     "evalue": "",
     "output_type": "error",
     "traceback": [
      "\u001b[0;31m---------------------------------------------------------------------------\u001b[0m",
      "\u001b[0;31mKeyboardInterrupt\u001b[0m                         Traceback (most recent call last)",
      "\u001b[0;32m<ipython-input-4-fb481f222799>\u001b[0m in \u001b[0;36m<module>\u001b[0;34m()\u001b[0m\n\u001b[1;32m      1\u001b[0m best_cfg = hp.optimize(lcs, Y, model_type='lstm', \n\u001b[0;32m----> 2\u001b[0;31m                        min_budget = 10, max_budget=30, run_name='', earlystop=True)\n\u001b[0m",
      "\u001b[0;32m~/Desktop/DL Theory/project/hyperband.py\u001b[0m in \u001b[0;36moptimize\u001b[0;34m(X, Y, objective, config_space_getter, model_type, min_budget, max_budget, job_queue_sizes, lr_exp_decay, earlystop, dropout, L1L2, base_path, run_name)\u001b[0m\n\u001b[1;32m    251\u001b[0m     \u001b[0;31m# runs one iteration if at least one worker is available\u001b[0m\u001b[0;34m\u001b[0m\u001b[0;34m\u001b[0m\u001b[0m\n\u001b[1;32m    252\u001b[0m     \u001b[0mn_iters\u001b[0m \u001b[0;34m=\u001b[0m \u001b[0mint\u001b[0m\u001b[0;34m(\u001b[0m\u001b[0mnp\u001b[0m\u001b[0;34m.\u001b[0m\u001b[0mlog2\u001b[0m\u001b[0;34m(\u001b[0m\u001b[0mmax_budget\u001b[0m \u001b[0;34m/\u001b[0m \u001b[0mmin_budget\u001b[0m\u001b[0;34m)\u001b[0m\u001b[0;34m)\u001b[0m\u001b[0;34m\u001b[0m\u001b[0m\n\u001b[0;32m--> 253\u001b[0;31m     \u001b[0mres\u001b[0m \u001b[0;34m=\u001b[0m \u001b[0mHB\u001b[0m\u001b[0;34m.\u001b[0m\u001b[0mrun\u001b[0m\u001b[0;34m(\u001b[0m\u001b[0mn_iters\u001b[0m\u001b[0;34m,\u001b[0m \u001b[0mmin_n_workers\u001b[0m\u001b[0;34m=\u001b[0m\u001b[0;36m1\u001b[0m\u001b[0;34m)\u001b[0m\u001b[0;34m\u001b[0m\u001b[0m\n\u001b[0m\u001b[1;32m    254\u001b[0m \u001b[0;34m\u001b[0m\u001b[0m\n\u001b[1;32m    255\u001b[0m     \u001b[0;31m# shutdown the worker and the dispatcher\u001b[0m\u001b[0;34m\u001b[0m\u001b[0;34m\u001b[0m\u001b[0m\n",
      "\u001b[0;32m~/.local/lib/python3.5/site-packages/hpbandster-0.1.0-py3.5.egg/hpbandster/HB_master.py\u001b[0m in \u001b[0;36mrun\u001b[0;34m(self, n_iterations, iteration_class, min_n_workers)\u001b[0m\n\u001b[1;32m    166\u001b[0m                         \u001b[0mself\u001b[0m\u001b[0;34m.\u001b[0m\u001b[0miterations\u001b[0m\u001b[0;34m.\u001b[0m\u001b[0mappend\u001b[0m\u001b[0;34m(\u001b[0m\u001b[0miteration_class\u001b[0m\u001b[0;34m(\u001b[0m\u001b[0mit\u001b[0m\u001b[0;34m,\u001b[0m \u001b[0mns\u001b[0m\u001b[0;34m,\u001b[0m \u001b[0mself\u001b[0m\u001b[0;34m.\u001b[0m\u001b[0mbudgets\u001b[0m\u001b[0;34m[\u001b[0m\u001b[0;34m(\u001b[0m\u001b[0;34m-\u001b[0m\u001b[0ms\u001b[0m\u001b[0;34m-\u001b[0m\u001b[0;36m1\u001b[0m\u001b[0;34m)\u001b[0m\u001b[0;34m:\u001b[0m\u001b[0;34m]\u001b[0m\u001b[0;34m,\u001b[0m \u001b[0mself\u001b[0m\u001b[0;34m.\u001b[0m\u001b[0mconfig_generator\u001b[0m\u001b[0;34m.\u001b[0m\u001b[0mget_config\u001b[0m\u001b[0;34m)\u001b[0m\u001b[0;34m)\u001b[0m\u001b[0;34m\u001b[0m\u001b[0m\n\u001b[1;32m    167\u001b[0m \u001b[0;34m\u001b[0m\u001b[0m\n\u001b[0;32m--> 168\u001b[0;31m                 \u001b[0;32mwhile\u001b[0m \u001b[0mlen\u001b[0m\u001b[0;34m(\u001b[0m\u001b[0mself\u001b[0m\u001b[0;34m.\u001b[0m\u001b[0mactive_iterations\u001b[0m\u001b[0;34m(\u001b[0m\u001b[0;34m)\u001b[0m\u001b[0;34m)\u001b[0m \u001b[0;34m>\u001b[0m \u001b[0;36m0\u001b[0m\u001b[0;34m:\u001b[0m\u001b[0;34m\u001b[0m\u001b[0m\n\u001b[0m\u001b[1;32m    169\u001b[0m                         \u001b[0;31m# find a new run to start\u001b[0m\u001b[0;34m\u001b[0m\u001b[0;34m\u001b[0m\u001b[0m\n\u001b[1;32m    170\u001b[0m                         \u001b[0;32mfor\u001b[0m \u001b[0mi\u001b[0m \u001b[0;32min\u001b[0m \u001b[0mself\u001b[0m\u001b[0;34m.\u001b[0m\u001b[0mactive_iterations\u001b[0m\u001b[0;34m(\u001b[0m\u001b[0;34m)\u001b[0m\u001b[0;34m:\u001b[0m\u001b[0;34m\u001b[0m\u001b[0m\n",
      "\u001b[0;32m~/.local/lib/python3.5/site-packages/hpbandster-0.1.0-py3.5.egg/hpbandster/HB_master.py\u001b[0m in \u001b[0;36mactive_iterations\u001b[0;34m(self)\u001b[0m\n\u001b[1;32m    228\u001b[0m         \u001b[0;32mdef\u001b[0m \u001b[0mactive_iterations\u001b[0m\u001b[0;34m(\u001b[0m\u001b[0mself\u001b[0m\u001b[0;34m)\u001b[0m\u001b[0;34m:\u001b[0m\u001b[0;34m\u001b[0m\u001b[0m\n\u001b[1;32m    229\u001b[0m                 \u001b[0;34m\"\"\" function that returns a list of all iterations that are not marked as finished \"\"\"\u001b[0m\u001b[0;34m\u001b[0m\u001b[0m\n\u001b[0;32m--> 230\u001b[0;31m                 \u001b[0;32mreturn\u001b[0m\u001b[0;34m(\u001b[0m\u001b[0mlist\u001b[0m\u001b[0;34m(\u001b[0m\u001b[0mfilter\u001b[0m\u001b[0;34m(\u001b[0m\u001b[0;32mlambda\u001b[0m \u001b[0midx\u001b[0m\u001b[0;34m:\u001b[0m \u001b[0;32mnot\u001b[0m \u001b[0mself\u001b[0m\u001b[0;34m.\u001b[0m\u001b[0miterations\u001b[0m\u001b[0;34m[\u001b[0m\u001b[0midx\u001b[0m\u001b[0;34m]\u001b[0m\u001b[0;34m.\u001b[0m\u001b[0mis_finished\u001b[0m\u001b[0;34m,\u001b[0m \u001b[0mrange\u001b[0m\u001b[0;34m(\u001b[0m\u001b[0mlen\u001b[0m\u001b[0;34m(\u001b[0m\u001b[0mself\u001b[0m\u001b[0;34m.\u001b[0m\u001b[0miterations\u001b[0m\u001b[0;34m)\u001b[0m\u001b[0;34m)\u001b[0m\u001b[0;34m)\u001b[0m\u001b[0;34m)\u001b[0m\u001b[0;34m)\u001b[0m\u001b[0;34m\u001b[0m\u001b[0m\n\u001b[0m\u001b[1;32m    231\u001b[0m \u001b[0;34m\u001b[0m\u001b[0m\n\u001b[1;32m    232\u001b[0m         \u001b[0;32mdef\u001b[0m \u001b[0m__del__\u001b[0m\u001b[0;34m(\u001b[0m\u001b[0mself\u001b[0m\u001b[0;34m)\u001b[0m\u001b[0;34m:\u001b[0m\u001b[0;34m\u001b[0m\u001b[0m\n",
      "\u001b[0;32m~/.local/lib/python3.5/site-packages/hpbandster-0.1.0-py3.5.egg/hpbandster/HB_master.py\u001b[0m in \u001b[0;36m<lambda>\u001b[0;34m(idx)\u001b[0m\n\u001b[1;32m    228\u001b[0m         \u001b[0;32mdef\u001b[0m \u001b[0mactive_iterations\u001b[0m\u001b[0;34m(\u001b[0m\u001b[0mself\u001b[0m\u001b[0;34m)\u001b[0m\u001b[0;34m:\u001b[0m\u001b[0;34m\u001b[0m\u001b[0m\n\u001b[1;32m    229\u001b[0m                 \u001b[0;34m\"\"\" function that returns a list of all iterations that are not marked as finished \"\"\"\u001b[0m\u001b[0;34m\u001b[0m\u001b[0m\n\u001b[0;32m--> 230\u001b[0;31m                 \u001b[0;32mreturn\u001b[0m\u001b[0;34m(\u001b[0m\u001b[0mlist\u001b[0m\u001b[0;34m(\u001b[0m\u001b[0mfilter\u001b[0m\u001b[0;34m(\u001b[0m\u001b[0;32mlambda\u001b[0m \u001b[0midx\u001b[0m\u001b[0;34m:\u001b[0m \u001b[0;32mnot\u001b[0m \u001b[0mself\u001b[0m\u001b[0;34m.\u001b[0m\u001b[0miterations\u001b[0m\u001b[0;34m[\u001b[0m\u001b[0midx\u001b[0m\u001b[0;34m]\u001b[0m\u001b[0;34m.\u001b[0m\u001b[0mis_finished\u001b[0m\u001b[0;34m,\u001b[0m \u001b[0mrange\u001b[0m\u001b[0;34m(\u001b[0m\u001b[0mlen\u001b[0m\u001b[0;34m(\u001b[0m\u001b[0mself\u001b[0m\u001b[0;34m.\u001b[0m\u001b[0miterations\u001b[0m\u001b[0;34m)\u001b[0m\u001b[0;34m)\u001b[0m\u001b[0;34m)\u001b[0m\u001b[0;34m)\u001b[0m\u001b[0;34m)\u001b[0m\u001b[0;34m\u001b[0m\u001b[0m\n\u001b[0m\u001b[1;32m    231\u001b[0m \u001b[0;34m\u001b[0m\u001b[0m\n\u001b[1;32m    232\u001b[0m         \u001b[0;32mdef\u001b[0m \u001b[0m__del__\u001b[0m\u001b[0;34m(\u001b[0m\u001b[0mself\u001b[0m\u001b[0;34m)\u001b[0m\u001b[0;34m:\u001b[0m\u001b[0;34m\u001b[0m\u001b[0m\n",
      "\u001b[0;31mKeyboardInterrupt\u001b[0m: "
     ]
    },
    {
     "name": "stdout",
     "output_type": "stream",
     "text": [
      "176/176 [==============================] - 12s 67ms/step - loss: 0.0156 - mean_squared_error: 0.0156\n",
      "Epoch 2/15\n",
      "158/176 [=========================>....] - ETA: 0s - loss: 0.0089 - mean_squared_error: 0.0089"
     ]
    }
   ],
   "source": [
    "best_cfg = hp.optimize(lcs, Y, model_type='lstm', \n",
    "                       min_budget = 10, max_budget=30, run_name='', earlystop=True)"
   ]
  },
  {
   "cell_type": "code",
   "execution_count": 3,
   "metadata": {},
   "outputs": [
    {
     "name": "stdout",
     "output_type": "stream",
     "text": [
      "140309731387136\n",
      "cross validate 2 epochs, with config {'batch_size': 7}\n",
      "evaluating with early stopping\n",
      "Train on 176 samples, validate on 89 samples\n",
      "Epoch 1/2\n",
      "176/176 [==============================] - 2s 11ms/step - loss: 0.0351 - mean_squared_error: 0.0351 - val_loss: 0.0247 - val_mean_squared_error: 0.0247\n",
      "Epoch 2/2\n",
      "176/176 [==============================] - 1s 7ms/step - loss: 0.0137 - mean_squared_error: 0.0137 - val_loss: 0.0159 - val_mean_squared_error: 0.0159\n",
      "Train on 177 samples, validate on 88 samples\n",
      "Epoch 1/2\n",
      "177/177 [==============================] - 1s 7ms/step - loss: 0.0196 - mean_squared_error: 0.0196 - val_loss: 0.0190 - val_mean_squared_error: 0.0190\n",
      "Epoch 2/2\n",
      "177/177 [==============================] - 1s 7ms/step - loss: 0.0132 - mean_squared_error: 0.0132 - val_loss: 0.0195 - val_mean_squared_error: 0.0195\n",
      "Train on 177 samples, validate on 88 samples\n",
      "Epoch 1/2\n",
      "177/177 [==============================] - 1s 8ms/step - loss: 0.0141 - mean_squared_error: 0.0141 - val_loss: 0.0080 - val_mean_squared_error: 0.0080\n",
      "Epoch 2/2\n",
      "177/177 [==============================] - 1s 7ms/step - loss: 0.0146 - mean_squared_error: 0.0146 - val_loss: 0.0579 - val_mean_squared_error: 0.0579\n",
      "MSE multi_lstm: mean *** 0.03109 *** std: 0.0190\n",
      "Result of all Folds: [ 0.0159  0.0195  0.0579]\n",
      "cross validate 2 epochs, with config {'batch_size': 6}\n",
      "evaluating with early stopping\n",
      "Train on 176 samples, validate on 89 samples\n",
      "Epoch 1/2\n",
      "176/176 [==============================] - 4s 23ms/step - loss: 0.0372 - mean_squared_error: 0.0372 - val_loss: 0.0280 - val_mean_squared_error: 0.0280\n",
      "Epoch 2/2\n",
      "176/176 [==============================] - 3s 16ms/step - loss: 0.0192 - mean_squared_error: 0.0192 - val_loss: 0.0221 - val_mean_squared_error: 0.0221\n",
      "Train on 177 samples, validate on 88 samples\n",
      "Epoch 1/2\n",
      "177/177 [==============================] - 3s 17ms/step - loss: 0.0190 - mean_squared_error: 0.0190 - val_loss: 0.0149 - val_mean_squared_error: 0.0149\n",
      "Epoch 2/2\n",
      "177/177 [==============================] - 3s 16ms/step - loss: 0.0153 - mean_squared_error: 0.0153 - val_loss: 0.0100 - val_mean_squared_error: 0.0100\n",
      "Train on 177 samples, validate on 88 samples\n",
      "Epoch 1/2\n",
      "177/177 [==============================] - 3s 16ms/step - loss: 0.0148 - mean_squared_error: 0.0148 - val_loss: 0.0220 - val_mean_squared_error: 0.0220\n",
      "Epoch 2/2\n",
      "177/177 [==============================] - 3s 16ms/step - loss: 0.0173 - mean_squared_error: 0.0173 - val_loss: 0.0186 - val_mean_squared_error: 0.0186\n",
      "MSE multi_lstm: mean *** 0.01689 *** std: 0.0051\n",
      "Result of all Folds: [ 0.0221  0.01    0.0186]\n",
      "cross validate 4 epochs, with config {'batch_size': 7}\n",
      "evaluating with early stopping\n",
      "Train on 176 samples, validate on 89 samples\n",
      "Epoch 1/4\n",
      "176/176 [==============================] - 4s 22ms/step - loss: 0.0273 - mean_squared_error: 0.0273 - val_loss: 0.0188 - val_mean_squared_error: 0.0188\n",
      "Epoch 2/4\n",
      "176/176 [==============================] - 3s 14ms/step - loss: 0.0131 - mean_squared_error: 0.0131 - val_loss: 0.0316 - val_mean_squared_error: 0.0316\n",
      "Epoch 3/4\n",
      "176/176 [==============================] - 3s 14ms/step - loss: 0.0192 - mean_squared_error: 0.0192 - val_loss: 0.0221 - val_mean_squared_error: 0.0221\n",
      "Epoch 4/4\n",
      "176/176 [==============================] - 2s 14ms/step - loss: 0.0135 - mean_squared_error: 0.0135 - val_loss: 0.0140 - val_mean_squared_error: 0.0140\n",
      "Train on 177 samples, validate on 88 samples\n",
      "Epoch 1/4\n",
      "177/177 [==============================] - 3s 14ms/step - loss: 0.0168 - mean_squared_error: 0.0168 - val_loss: 0.0091 - val_mean_squared_error: 0.0091\n",
      "Epoch 2/4\n",
      "177/177 [==============================] - 2s 14ms/step - loss: 0.0128 - mean_squared_error: 0.0128 - val_loss: 0.0315 - val_mean_squared_error: 0.0315\n",
      "Epoch 3/4\n",
      "177/177 [==============================] - 3s 15ms/step - loss: 0.0141 - mean_squared_error: 0.0141 - val_loss: 0.0304 - val_mean_squared_error: 0.0304\n",
      "Epoch 4/4\n",
      "177/177 [==============================] - 3s 15ms/step - loss: 0.0123 - mean_squared_error: 0.0123 - val_loss: 0.0058 - val_mean_squared_error: 0.0058\n",
      "Train on 177 samples, validate on 88 samples\n",
      "Epoch 1/4\n",
      "177/177 [==============================] - 2s 14ms/step - loss: 0.0139 - mean_squared_error: 0.0139 - val_loss: 0.0154 - val_mean_squared_error: 0.0154\n",
      "Epoch 2/4\n",
      "177/177 [==============================] - 3s 14ms/step - loss: 0.0113 - mean_squared_error: 0.0113 - val_loss: 0.0525 - val_mean_squared_error: 0.0525\n",
      "Epoch 3/4\n",
      "177/177 [==============================] - 3s 14ms/step - loss: 0.0143 - mean_squared_error: 0.0143 - val_loss: 0.0365 - val_mean_squared_error: 0.0365\n",
      "Epoch 4/4\n",
      "177/177 [==============================] - 2s 14ms/step - loss: 0.0127 - mean_squared_error: 0.0127 - val_loss: 0.0090 - val_mean_squared_error: 0.0090\n",
      "MSE multi_lstm: mean *** 0.00961 *** std: 0.0034\n",
      "Result of all Folds: [ 0.014   0.0058  0.009 ]\n",
      "return best_cfg:  {'batch_size': 7}\n"
     ]
    }
   ],
   "source": [
    "best_cfg = hp.optimize([configs,lcs], Y, model_type='multi_lstm', \n",
    "                       min_budget = 2, max_budget=4, run_name='', earlystop=True)"
   ]
  },
  {
   "cell_type": "code",
   "execution_count": null,
   "metadata": {},
   "outputs": [],
   "source": []
  },
  {
   "cell_type": "code",
   "execution_count": 68,
   "metadata": {},
   "outputs": [
    {
     "name": "stdout",
     "output_type": "stream",
     "text": [
      "scaling configuration data\n",
      "build lstm with input_dim: 6\n",
      "Train on 200 samples, validate on 65 samples\n",
      "Epoch 1/5\n",
      "200/200 [==============================] - 3s 15ms/step - loss: 0.0743 - mean_squared_error: 0.0743 - val_loss: 0.0370 - val_mean_squared_error: 0.0370\n",
      "Epoch 2/5\n",
      "200/200 [==============================] - 0s 2ms/step - loss: 0.0287 - mean_squared_error: 0.0287 - val_loss: 0.0144 - val_mean_squared_error: 0.0144\n",
      "Epoch 3/5\n",
      "200/200 [==============================] - 1s 3ms/step - loss: 0.0210 - mean_squared_error: 0.0210 - val_loss: 0.0158 - val_mean_squared_error: 0.0158\n",
      "Epoch 4/5\n",
      "200/200 [==============================] - 1s 3ms/step - loss: 0.0160 - mean_squared_error: 0.0160 - val_loss: 0.0110 - val_mean_squared_error: 0.0110\n",
      "Epoch 5/5\n",
      "200/200 [==============================] - 1s 3ms/step - loss: 0.0133 - mean_squared_error: 0.0133 - val_loss: 0.0087 - val_mean_squared_error: 0.0087\n",
      "65/65 [==============================] - 0s 843us/step\n",
      "mse:  0.00873059442697\n"
     ]
    }
   ],
   "source": [
    "# experiment with concatenating the config to each data point of learning curve\n",
    "timesteps = 5\n",
    "configs,lcs,Y = t.load_lstm_data_concat_cfg(timesteps=timesteps)\n",
    "model_type = 'lstm'\n",
    "model = m.lstm(lcs[0][0].shape[0])\n",
    "m.train_lstm(model, lcs, Y, split=200, batch_size=20, epochs=5)\n",
    "mse = m.eval_lstm(model, lcs, Y, split=200, batch_size=20)"
   ]
  },
  {
   "cell_type": "code",
   "execution_count": null,
   "metadata": {},
   "outputs": [],
   "source": []
  },
  {
   "cell_type": "code",
   "execution_count": null,
   "metadata": {},
   "outputs": [],
   "source": []
  },
  {
   "cell_type": "code",
   "execution_count": null,
   "metadata": {},
   "outputs": [],
   "source": []
  },
  {
   "cell_type": "code",
   "execution_count": null,
   "metadata": {},
   "outputs": [],
   "source": []
  },
  {
   "cell_type": "code",
   "execution_count": null,
   "metadata": {},
   "outputs": [],
   "source": []
  },
  {
   "cell_type": "markdown",
   "metadata": {},
   "source": [
    "## Sample learning curves"
   ]
  },
  {
   "cell_type": "code",
   "execution_count": 8,
   "metadata": {},
   "outputs": [
    {
     "data": {
      "image/png": "[encoded data removed]",
      "text/plain": [
       "<matplotlib.figure.Figure at 0x7f49393387f0>"
      ]
     },
     "metadata": {},
     "output_type": "display_data"
    }
   ],
   "source": [
    "import numpy as np\n",
    "\n",
    "n_subset=20\n",
    "t_idx = np.arange(1, n_epochs+1)\n",
    "\n",
    "[plt.plot(t_idx, lc) for lc in learning_curves[:n_subset]]\n",
    "plt.title(\"Subset of learning curves\")\n",
    "plt.xlabel(\"Number of epochs\")\n",
    "plt.ylabel(\"Validation error\")\n",
    "plt.show()"
   ]
  },
  {
   "cell_type": "markdown",
   "metadata": {},
   "source": [
    "## Basic Data Exploration"
   ]
  },
  {
   "cell_type": "markdown",
   "metadata": {},
   "source": [
    "### Histogram and CDF over the final error rate"
   ]
  },
  {
   "cell_type": "code",
   "execution_count": 15,
   "metadata": {},
   "outputs": [
    {
     "name": "stdout",
     "output_type": "stream",
     "text": [
      "265\n",
      "[ 0.15153689  0.1515819   0.15282866  0.15434343  0.15650082  0.15954709\n",
      "  0.15959183  0.16055092  0.16080048  0.16156045  0.16244856  0.16430366\n",
      "  0.16470223  0.16500051  0.16504065  0.16676737  0.16724419  0.16746314\n",
      "  0.16788982  0.16836734  0.16912972  0.1696      0.17007007  0.17097436\n",
      "  0.17197581  0.17218749  0.17309483  0.17469136  0.17477876  0.17589213\n",
      "  0.1771176   0.17717566  0.18051375  0.18429064  0.18561671  0.18614719\n",
      "  0.18654372  0.1888912   0.18908462  0.18939709  0.19002079  0.19011057\n",
      "  0.19062407  0.19251503  0.19269777  0.19512195  0.19799197  0.20191532\n",
      "  0.2025641   0.20337261  0.20503018  0.20661408  0.2067056   0.20721804\n",
      "  0.20923359  0.20958447  0.21048843  0.21072796  0.21152115  0.21208654\n",
      "  0.21271271  0.21322007  0.21383838  0.21459538  0.2149739   0.21512623\n",
      "  0.21656115  0.2168614   0.2173462   0.21915322  0.22029654  0.22293893\n",
      "  0.22635376  0.22674772  0.22709083  0.23027569  0.23098019  0.23246412\n",
      "  0.23264447  0.23268473  0.23302277  0.23335352  0.23336735  0.23343434\n",
      "  0.23412699  0.23500927  0.23647416  0.23732251  0.2375452   0.23777065\n",
      "  0.23783784  0.24062501  0.24231975  0.24259704  0.24362348  0.24435318\n",
      "  0.24571427  0.24644309  0.2464986   0.24904099  0.24914332  0.25050813\n",
      "  0.25081633  0.25112107  0.25115116  0.25141243  0.25155154  0.25231388\n",
      "  0.25285347  0.25309199  0.25416666  0.2567131   0.25937046  0.25951522\n",
      "  0.26032892  0.26065163  0.26079499  0.26187094  0.2624217   0.26360544\n",
      "  0.26433381  0.26460584  0.26635748  0.26708823  0.26754297  0.26783325\n",
      "  0.26910763  0.26916869  0.26990796  0.26999184  0.27050505  0.27067669\n",
      "  0.27130417  0.27173478  0.27414801  0.27594143  0.27628738  0.27631045\n",
      "  0.27649817  0.27902911  0.27943868  0.27975207  0.28036345  0.28071056\n",
      "  0.2819192   0.28218219  0.28220612  0.28399035  0.28631791  0.2866592\n",
      "  0.28738856  0.28765182  0.28810564  0.28815629  0.28922669  0.29289517\n",
      "  0.29538055  0.29550102  0.29559559  0.2967033   0.297439    0.29830016\n",
      "  0.30056406  0.30062023  0.30236794  0.3029029   0.30427367  0.30525252\n",
      "  0.30558355  0.30674017  0.30742156  0.30936489  0.31012913  0.31084805\n",
      "  0.31117731  0.31134724  0.3121154   0.31726662  0.31868912  0.31876791\n",
      "  0.31962783  0.32151515  0.32217489  0.32231571  0.32381829  0.32454175\n",
      "  0.32527919  0.32738879  0.32871207  0.32940584  0.33004115  0.33357348\n",
      "  0.33494949  0.34071533  0.34141941  0.34167684  0.34295484  0.34467005\n",
      "  0.34560162  0.35090726  0.35261458  0.35325203  0.35509426  0.35739455\n",
      "  0.35766497  0.36118952  0.36355311  0.36651265  0.36814726  0.37251357\n",
      "  0.37533485  0.37769964  0.37815976  0.37994988  0.38020202  0.38165264\n",
      "  0.39293826  0.39895751  0.39897157  0.40262136  0.40277778  0.40509657\n",
      "  0.41080247  0.41186544  0.41676955  0.42396314  0.43043884  0.43374359\n",
      "  0.43489583  0.4712326   0.47561098  0.47720855  0.48276563  0.48861117\n",
      "  0.49195474  0.50221061  0.51912239  0.52155658  0.53157578  0.53413534\n",
      "  0.53465447  0.56480344  0.58298298  0.63064267  0.6986456   0.89738956\n",
      "  0.89742798  0.8975      0.89770334  0.89776127  0.89795918  0.89835934\n",
      "  0.89857724  0.89873029  0.89878788  0.89882447  0.89885726  0.89964912\n",
      "  0.89978547  0.900398    0.90061919  0.90229302  0.90316206  0.90459863\n",
      "  0.90499599]\n"
     ]
    },
    {
     "data": {
      "image/png": "[encoded data removed]",
      "text/plain": [
       "<matplotlib.figure.Figure at 0x7f49357bc908>"
      ]
     },
     "metadata": {},
     "output_type": "display_data"
    },
    {
     "data": {
      "image/png": "[encoded data removed]",
      "text/plain": [
       "<matplotlib.figure.Figure at 0x7f493579d5f8>"
      ]
     },
     "metadata": {},
     "output_type": "display_data"
    }
   ],
   "source": [
    "sorted = np.sort(learning_curves[:, -1])   # sorted list of final val error\n",
    "print(len(sorted))\n",
    "h = plt.hist(sorted, bins=20)\n",
    "plt.show()\n",
    "\n",
    "yvals = np.arange(len(sorted))/float(len(sorted))   # from 0 to 1 in 265 even steps\n",
    "plt.plot(sorted, yvals)\n",
    "plt.title(\"Empirical CDF\")\n",
    "plt.xlabel(\"y(x, t=40)\")\n",
    "plt.ylabel(\"CDF(y)\")\n",
    "plt.show()"
   ]
  },
  {
   "cell_type": "markdown",
   "metadata": {},
   "source": [
    "### Histogram and CDF over all error rates"
   ]
  },
  {
   "cell_type": "code",
   "execution_count": 14,
   "metadata": {},
   "outputs": [
    {
     "data": {
      "image/png": "[encoded data removed]",
      "text/plain": [
       "<matplotlib.figure.Figure at 0x7f4935a3ccc0>"
      ]
     },
     "metadata": {},
     "output_type": "display_data"
    },
    {
     "data": {
      "image/png": "[encoded data removed]",
      "text/plain": [
       "<matplotlib.figure.Figure at 0x7f493581f828>"
      ]
     },
     "metadata": {},
     "output_type": "display_data"
    }
   ],
   "source": [
    "all_values = np.sort(learning_curves.flatten())\n",
    "\n",
    "h = plt.hist(all_values, bins=20)\n",
    "plt.show()\n",
    "\n",
    "yvals = np.arange(all_values.shape[0])/all_values.shape[0]\n",
    "plt.plot(all_values, yvals)\n",
    "plt.title(\"Empirical CDF\")\n",
    "plt.xlabel(\"y(x, t=40)\")\n",
    "plt.ylabel(\"CDF(y)\")\n",
    "plt.show()"
   ]
  },
  {
   "cell_type": "code",
   "execution_count": null,
   "metadata": {},
   "outputs": [],
   "source": []
  }
 ],
 "metadata": {
  "kernelspec": {
   "display_name": "Python 3",
   "language": "python",
   "name": "python3"
  },
  "language_info": {
   "codemirror_mode": {
    "name": "ipython",
    "version": 3
   },
   "file_extension": ".py",
   "mimetype": "text/x-python",
   "name": "python",
   "nbconvert_exporter": "python",
   "pygments_lexer": "ipython3",
   "version": "3.5.2"
  }
 },
 "nbformat": 4,
 "nbformat_minor": 1
}
